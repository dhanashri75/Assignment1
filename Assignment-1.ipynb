{
 "cells": [
  {
   "cell_type": "code",
   "execution_count": 1,
   "id": "6204d1f5",
   "metadata": {},
   "outputs": [
    {
     "name": "stdout",
     "output_type": "stream",
     "text": [
      "enter word to reversepython\n",
      "n o h t y p "
     ]
    }
   ],
   "source": [
    "name = input(\"enter word to reverse\")\n",
    "for i in range(len(name)-1,-1,-1):\n",
    "    print(name[i], end=\" \")\n"
   ]
  },
  {
   "cell_type": "code",
   "execution_count": 2,
   "id": "93578744",
   "metadata": {},
   "outputs": [
    {
     "name": "stdout",
     "output_type": "stream",
     "text": [
      "0 1 1 2 3 5 8 13 21 34 "
     ]
    }
   ],
   "source": [
    "num = range(0,10)\n",
    "n1=0\n",
    "n2=1\n",
    "sum=0\n",
    "\n",
    "for i in num:\n",
    "    print(sum, end=\" \")\n",
    "    n1=n2\n",
    "    n2=sum\n",
    "    sum=n1+n2\n"
   ]
  },
  {
   "cell_type": "code",
   "execution_count": 1,
   "id": "514a5bb8",
   "metadata": {},
   "outputs": [
    {
     "name": "stdout",
     "output_type": "stream",
     "text": [
      "4\n",
      "5\n"
     ]
    }
   ],
   "source": [
    "l=[1,2,3,4,5,6,7,8,9]\n",
    "\n",
    "even=0\n",
    "odd=0\n",
    "\n",
    "for i in l:\n",
    "    if i%2==0: \n",
    "        even=even+1\n",
    "    else:\n",
    "        odd=odd+1\n",
    "print(even)\n",
    "print(odd)"
   ]
  },
  {
   "cell_type": "code",
   "execution_count": null,
   "id": "6f03a968",
   "metadata": {},
   "outputs": [],
   "source": []
  }
 ],
 "metadata": {
  "kernelspec": {
   "display_name": "Python 3 (ipykernel)",
   "language": "python",
   "name": "python3"
  },
  "language_info": {
   "codemirror_mode": {
    "name": "ipython",
    "version": 3
   },
   "file_extension": ".py",
   "mimetype": "text/x-python",
   "name": "python",
   "nbconvert_exporter": "python",
   "pygments_lexer": "ipython3",
   "version": "3.10.2"
  }
 },
 "nbformat": 4,
 "nbformat_minor": 5
}
